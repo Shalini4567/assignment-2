{
 "cells": [
  {
   "cell_type": "code",
   "execution_count": null,
   "id": "ee58d098-e15e-475b-b410-3b0d240c9627",
   "metadata": {},
   "outputs": [],
   "source": [
    "1. Write a program to calculate the electricity bill using only if statement?\n",
    "according to the following criteria:\n",
    "\n",
    "Unit               Price\n",
    "First 100 units    no charge\n",
    "Next 100 units     Rs 5 per unit\n",
    "After 200 units    rs 10 per unit\n",
    "(For example, if input unit is 350 then total bill amount is Rs2000). Lets explain...\n",
    "For first 100 no charges\n",
    "Now you have 250 unit remaining\n",
    "100-200 you need to pay – 100*5 = 500\n",
    "Now 200-100 you need to pay 150*10 = 1500\n",
    "Total = 500+1500 = 2000"
   ]
  },
  {
   "cell_type": "code",
   "execution_count": 9,
   "id": "5437fbb0-d624-4e82-9724-204c88c3e9db",
   "metadata": {},
   "outputs": [
    {
     "name": "stdin",
     "output_type": "stream",
     "text": [
      "Enter total units consumed :  350\n"
     ]
    },
    {
     "name": "stdout",
     "output_type": "stream",
     "text": [
      "total bill = 2000\n"
     ]
    }
   ],
   "source": [
    "# A program to calculate electricity bill using only if statement:\n",
    "units = int(input(\"Enter total units consumed : \"))\n",
    "if units>0 and units <=100:\n",
    "    bill = 0\n",
    "elif units>100 and units<=200:\n",
    "    bill = units*5\n",
    "else:\n",
    "    bill =  500 + ((units-200)*10)\n",
    "print(\"total bill = {}\".format(bill))\n",
    "    \n"
   ]
  },
  {
   "cell_type": "code",
   "execution_count": null,
   "id": "d0a5ad94-974c-47b1-8a31-ba12ce94ce1e",
   "metadata": {},
   "outputs": [],
   "source": [
    "Q2. Write a program to accept percentage from the user and display\n",
    "the grade according to the following criteria:\n",
    "\n",
    "Marks Grade\n",
    "> 90 A\n",
    "> 80 and <= 90 B\n",
    ">= 60 and <= 80 C\n",
    "below 60 D"
   ]
  },
  {
   "cell_type": "code",
   "execution_count": 16,
   "id": "61014a2f-e8c8-4dca-950c-57cba98a09f9",
   "metadata": {},
   "outputs": [
    {
     "name": "stdin",
     "output_type": "stream",
     "text": [
      "Enter the numbers: 7\n"
     ]
    },
    {
     "name": "stdout",
     "output_type": "stream",
     "text": [
      "Grade will be = D\n"
     ]
    }
   ],
   "source": [
    "# Program to display grades according to numbers :\n",
    "percentage = int(input(\"Enter the numbers:\"))\n",
    "if percentage >90 and percentage <=100:\n",
    "    grade = \"A\"\n",
    "elif percentage >80 and percentage<=90:\n",
    "    grade = \"B\"\n",
    "elif percentage>=60 and percentage<=80:\n",
    "    grade = \"C\"\n",
    "else:\n",
    "    grade = \"D\"\n",
    "    print(\"Grade will be = {}\".format(grade))\n",
    "    \n",
    "            \n",
    "\n",
    "             \n",
    "             "
   ]
  },
  {
   "cell_type": "markdown",
   "id": "d62b221e-0a78-4a3c-a9a6-c9990851f075",
   "metadata": {},
   "source": [
    " Q3. Accept the age of 4 people and display the youngest one?"
   ]
  },
  {
   "cell_type": "code",
   "execution_count": 5,
   "id": "ae4b881b-55cd-429f-a2eb-4c8149984d71",
   "metadata": {},
   "outputs": [
    {
     "name": "stdin",
     "output_type": "stream",
     "text": [
      "enter the age of person_1:  67\n",
      "enter the age of person_2:  90\n",
      "enter the age of person_3:  23\n",
      "enter the age of person_4:  56\n"
     ]
    },
    {
     "name": "stdout",
     "output_type": "stream",
     "text": [
      "Youngest age is : 23\n"
     ]
    }
   ],
   "source": [
    "age_1 = int(input(\"enter the age of person_1: \"))\n",
    "age_2 = int(input(\"enter the age of person_2: \"))\n",
    "age_3 = int(input(\"enter the age of person_3: \"))\n",
    "age_4 = int(input(\"enter the age of person_4: \"))\n",
    "\n",
    "youngest = age_1\n",
    "\n",
    "if age_2 < youngest: \n",
    "    youngest = age_2\n",
    "if age_3 < youngest:\n",
    "    youngest = age_3\n",
    "\n",
    "if age_4 < youngest:\n",
    "    youngest = age_4\n",
    "\n",
    "print(\"Youngest age is : {}\".format(youngest))\n"
   ]
  },
  {
   "cell_type": "code",
   "execution_count": null,
   "id": "799ef6ef-7860-43a2-81b0-fa72776e025b",
   "metadata": {},
   "outputs": [],
   "source": [
    "Q4. A company decided to give bonus to employee\n",
    "according to following criteria:\n",
    "\n",
    "Time period of Service Bonus\n",
    "\n",
    "More than 10 years 10%\n",
    "\n",
    ">=6 and <=10 8%\n",
    "\n",
    "Less than 6 years 5%\n",
    "Ask user for their salary and years of service and print the\n",
    "net bonus amount?"
   ]
  },
  {
   "cell_type": "code",
   "execution_count": 11,
   "id": "3ffc1dff-6c28-4e17-8e4b-519e13a13380",
   "metadata": {},
   "outputs": [
    {
     "name": "stdin",
     "output_type": "stream",
     "text": [
      "Enter the salary:  7900\n",
      "Enter the service years:  11\n"
     ]
    },
    {
     "name": "stdout",
     "output_type": "stream",
     "text": [
      "your net bonus_amount: 790.0\n"
     ]
    }
   ],
   "source": [
    "salary = float(input(\"Enter the salary: \"))\n",
    "service_years = int(input(\"Enter the service years: \"))\n",
    "if service_years >10:\n",
    "    bonus_percentage = 10\n",
    "elif service_years >=6 and service_years <=10:\n",
    "    bonus_percentage = 8\n",
    "else:\n",
    "    bonus_percentage = 5\n",
    "bonus_amount = (bonus_percentage/100) * salary\n",
    "\n",
    "print(f\"your net bonus_amount: {bonus_amount}\")\n"
   ]
  },
  {
   "cell_type": "code",
   "execution_count": null,
   "id": "5eba95f1-5b6c-48de-80c7-017a29cabac9",
   "metadata": {},
   "outputs": [],
   "source": [
    "Q5. Accept three numbers from the user and\n",
    "display the second largest number?"
   ]
  },
  {
   "cell_type": "code",
   "execution_count": 15,
   "id": "17af1488-6dfa-4a09-8c41-4cf4b3c638d7",
   "metadata": {},
   "outputs": [
    {
     "name": "stdin",
     "output_type": "stream",
     "text": [
      "Enter the first number :  45\n",
      "Enter the second number :  37\n",
      "Enter the third number :  29\n"
     ]
    },
    {
     "name": "stdout",
     "output_type": "stream",
     "text": [
      "the second largest number is 37\n"
     ]
    }
   ],
   "source": [
    "num_1 = int(input(\"Enter the first number : \"))\n",
    "num_2 = int(input(\"Enter the second number : \"))\n",
    "num_3 = int(input (\"Enter the third number : \"))\n",
    "if num_1>num_2 and num_1> num_3:\n",
    "    if num_2> num_3:\n",
    "     print(\"the second largest number is\", num_2)\n",
    "    else:\n",
    "     print(\"the second largest number is \",num_3)\n",
    "elif num_2>num_3 and num_2>num_1:\n",
    "     if num_3>num_1:\n",
    "      print(\"the second largest number is\",num_3)\n",
    "     else:\n",
    "      print(\"the second largest number is\", num_1)\n",
    "else:\n",
    "     if num_1>num_2:\n",
    "         print(\"the second largest number is \", num_1)\n",
    "     else:\n",
    "         print(\"thesecond largest number is \", num_2)\n",
    "         \n",
    "     \n",
    "         \n",
    "\n",
    "     "
   ]
  },
  {
   "cell_type": "code",
   "execution_count": null,
   "id": "fb4df815-7f95-4ba8-8e84-c8e1e9859364",
   "metadata": {},
   "outputs": [],
   "source": [
    "Q6. Accept the marked price from the user and calculate\n",
    "the Net amount as (Marked Price – Discount) to pay\n",
    "according to following criteria:\n",
    "\n",
    "Marked Price Discount\n",
    ">10000 20%\n",
    ">7000 and <=10000 15%\n",
    "<=7000 10%"
   ]
  },
  {
   "cell_type": "code",
   "execution_count": 13,
   "id": "4f715bc5-8337-4d95-8ba7-e4c8e0864582",
   "metadata": {},
   "outputs": [
    {
     "name": "stdin",
     "output_type": "stream",
     "text": [
      "Enter the marked price:  6700\n"
     ]
    },
    {
     "name": "stdout",
     "output_type": "stream",
     "text": [
      "net amount will be : 6030.0\n"
     ]
    }
   ],
   "source": [
    "mrp = float(input(\"Enter the marked price: \"))\n",
    "if mrp > 10000:\n",
    "    discount_percentage = 20\n",
    "elif mrp>7000 and mrp<=10000:\n",
    "     discount_percentage = 15\n",
    "else:\n",
    "     discount_percentage = 10\n",
    "     discount_amount = (discount_percentage/100)*mrp\n",
    "     net_amount = mrp - discount_amount\n",
    "print(\"net amount will be : {}\".format(net_amount))"
   ]
  },
  {
   "cell_type": "code",
   "execution_count": null,
   "id": "3fb32d79-f8cc-4c95-8f53-0ed85160d41a",
   "metadata": {},
   "outputs": [],
   "source": [
    "Q7. Accept the marks of English, Math and Science,\n",
    "Social Studies Subject and display the stream allotted\n",
    "according to following:\n",
    "\n",
    "All Subjects more than 80 marks — Science Stream\n",
    "\n",
    "English >80 and Math, Science above 50 — Commerce Stream\n",
    "\n",
    "English > 80 and social studies > 80 — Humanities"
   ]
  },
  {
   "cell_type": "code",
   "execution_count": 22,
   "id": "cefe226d-5335-45de-88c5-0e5c0e73b0e2",
   "metadata": {},
   "outputs": [
    {
     "name": "stdin",
     "output_type": "stream",
     "text": [
      "Enter the english marks :  98\n",
      "Enter the maths marks :  91\n",
      "Enter the science marks :  90\n",
      "Enter the social science marks :  87\n"
     ]
    },
    {
     "name": "stdout",
     "output_type": "stream",
     "text": [
      "Science stream\n"
     ]
    }
   ],
   "source": [
    "marks_1 = float(input(\"Enter the english marks : \"))\n",
    "marks_2 = float(input(\"Enter the maths marks : \"))\n",
    "marks_3 = float(input(\"Enter the science marks : \"))\n",
    "marks_4 = float(input(\"Enter the social science marks : \"))\n",
    "if marks_1>80 and marks_2>80 and marks_3>80 and marks_4>80:\n",
    "    print(\"Science stream\")\n",
    "elif marks_1>80 and marks_2>50 and marks_3>50:\n",
    "    print(\"Commerce stream\")\n",
    "elif marks_1>80 and marks_4>80:\n",
    "    print(\"Humanities\")\n",
    "else:\n",
    "    print(\"No stream alloted\")\n",
    "    \n",
    "    \n",
    "\n"
   ]
  },
  {
   "cell_type": "code",
   "execution_count": null,
   "id": "3d436907-df00-4b92-a975-1c56a2455f62",
   "metadata": {},
   "outputs": [],
   "source": [
    "Q8. Write a program to display \"Hello\" if a number entered\n",
    "by user is a multiple of five, otherwise print \"Bye\"?"
   ]
  },
  {
   "cell_type": "code",
   "execution_count": 25,
   "id": "67fec33e-a904-4bd2-8eb8-63a781978f4c",
   "metadata": {},
   "outputs": [
    {
     "name": "stdin",
     "output_type": "stream",
     "text": [
      "Enter the number :  55\n"
     ]
    },
    {
     "name": "stdout",
     "output_type": "stream",
     "text": [
      "Hello\n"
     ]
    }
   ],
   "source": [
    "num = int(input(\"Enter the number : \"))\n",
    "if num % 5 == 0:\n",
    "    print(\"Hello\")\n",
    "else:\n",
    "    print(\"Bye\")\n",
    "\n",
    "          "
   ]
  },
  {
   "cell_type": "code",
   "execution_count": null,
   "id": "40bf4574-0306-469a-8b73-071c7f19f9a2",
   "metadata": {},
   "outputs": [],
   "source": [
    "Q9. Write a program to check whether the last digit of a number\n",
    "(entered by user) is divisible by 3 or not?"
   ]
  },
  {
   "cell_type": "code",
   "execution_count": 29,
   "id": "98978082-6105-4de0-99eb-e7db19e269eb",
   "metadata": {},
   "outputs": [
    {
     "name": "stdin",
     "output_type": "stream",
     "text": [
      "Enter the number : 69\n"
     ]
    },
    {
     "name": "stdout",
     "output_type": "stream",
     "text": [
      "last digit  is divisible by 3\n"
     ]
    }
   ],
   "source": [
    "num = int(input(\"Enter the number :\"))\n",
    "last_digit = num%10\n",
    "if last_digit % 3 == 0:\n",
    "    print (\"last digit  is divisible by 3\")\n",
    "else:\n",
    "    print (\"last digit  is not divisible by 3\")\n",
    "          "
   ]
  },
  {
   "cell_type": "code",
   "execution_count": null,
   "id": "87214a9f-ed80-4b71-b945-62d6ac84fde1",
   "metadata": {},
   "outputs": [],
   "source": [
    "Q10. Write a program to check whether a number entered\n",
    "is three-digit number or not?"
   ]
  },
  {
   "cell_type": "code",
   "execution_count": 32,
   "id": "7c40fccd-89bc-4a87-a13b-07148c378598",
   "metadata": {},
   "outputs": [
    {
     "name": "stdin",
     "output_type": "stream",
     "text": [
      "Enter the number:  678\n"
     ]
    },
    {
     "name": "stdout",
     "output_type": "stream",
     "text": [
      "The number is three digit\n"
     ]
    }
   ],
   "source": [
    "num = int(input(\"Enter the number: \"))\n",
    "if num>=100 and num<=999:\n",
    "    print(\"The number is three digit\")\n",
    "else:\n",
    "    print(\"The number is not three digit\") \n",
    "          \n",
    "\n",
    "          "
   ]
  },
  {
   "cell_type": "code",
   "execution_count": null,
   "id": "4d61eeb9-c428-4da8-84a5-2b2d73b2dc7e",
   "metadata": {},
   "outputs": [],
   "source": []
  }
 ],
 "metadata": {
  "kernelspec": {
   "display_name": "Python 3 (ipykernel)",
   "language": "python",
   "name": "python3"
  },
  "language_info": {
   "codemirror_mode": {
    "name": "ipython",
    "version": 3
   },
   "file_extension": ".py",
   "mimetype": "text/x-python",
   "name": "python",
   "nbconvert_exporter": "python",
   "pygments_lexer": "ipython3",
   "version": "3.12.4"
  }
 },
 "nbformat": 4,
 "nbformat_minor": 5
}
